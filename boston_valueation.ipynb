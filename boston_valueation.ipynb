{
 "cells": [
  {
   "cell_type": "code",
   "execution_count": 5,
   "metadata": {},
   "outputs": [],
   "source": [
    "from sklearn.datasets import load_boston\n",
    "from sklearn.linear_model import LinearRegression\n",
    "from sklearn.metrics import mean_squared_error\n",
    "import pandas as pd\n",
    "import numpy as np"
   ]
  },
  {
   "cell_type": "code",
   "execution_count": 6,
   "metadata": {},
   "outputs": [],
   "source": [
    "# Gather data\n",
    "boston_dataset = load_boston()\n",
    "data = pd.DataFrame(data = boston_dataset.data , columns = boston_dataset.feature_names)\n",
    "features = data.drop(['INDUS' , 'AGE'] , axis = 1)\n",
    "log_prices = np.log(boston_dataset.target)\n",
    "target = pd.DataFrame(log_prices , columns = ['PRICE'])"
   ]
  },
  {
   "cell_type": "code",
   "execution_count": 29,
   "metadata": {},
   "outputs": [],
   "source": [
    "CRIME_IDX = 0\n",
    "ZN_IDX = 1\n",
    "CHAS_IDX = 2\n",
    "RM_IDX = 4\n",
    "PTRATIO_IDX = 8\n",
    "\n",
    "property_stats = features.mean().values.reshape(1 , 11)"
   ]
  },
  {
   "cell_type": "code",
   "execution_count": 30,
   "metadata": {},
   "outputs": [],
   "source": [
    "regr = LinearRegression().fit(features , target)\n",
    "fitted_vals = regr.predict(features)\n",
    "\n",
    "# Challenge: Calculate the MSE and RMSE using sklearn\n",
    "MSE = mean_squared_error(target , fitted_vals)\n",
    "RMSE = np.sqrt(MSE)\n"
   ]
  },
  {
   "cell_type": "code",
   "execution_count": 72,
   "metadata": {},
   "outputs": [],
   "source": [
    "def get_log_estimate(nr_rooms,\n",
    "                    students_per_classroom,\n",
    "                    next_to_river = False,\n",
    "                    high_confidence = True):\n",
    "    property_stats[0][RM_IDX] = nr_rooms\n",
    "    property_stats[0][PTRATIO_IDX] = students_per_classroom\n",
    "    \n",
    "    if next_to_river:\n",
    "        property_stats[0][CHAS_IDX] = 1\n",
    "    else:\n",
    "        property_stats[0][CHAS_IDX] = 0\n",
    "        \n",
    "        \n",
    "    log_estimate = regr.predict(property_stats)[0][0]\n",
    "    \n",
    "    if high_confidence:\n",
    "        upper_bound = log_estimate + 2*RMSE\n",
    "        lower_bound = log_estimate - 2*RMSE\n",
    "        interval = 95\n",
    "    else:\n",
    "        upper_bound = log_estimate + 1*RMSE\n",
    "        lower_bound = log_estimate - 1*RMSE\n",
    "        interval = 68\n",
    "        \n",
    "    return log_estimate, upper_bound , lower_bound , interval"
   ]
  },
  {
   "cell_type": "code",
   "execution_count": 73,
   "metadata": {},
   "outputs": [
    {
     "data": {
      "text/plain": [
       "(2.776758191480399, 3.1517824618746597, 2.4017339210861386, 95)"
      ]
     },
     "execution_count": 73,
     "metadata": {},
     "output_type": "execute_result"
    }
   ],
   "source": [
    "get_log_estimate(3, 20 , next_to_river=True)"
   ]
  },
  {
   "cell_type": "code",
   "execution_count": 74,
   "metadata": {},
   "outputs": [
    {
     "data": {
      "text/plain": [
       "21.2"
      ]
     },
     "execution_count": 74,
     "metadata": {},
     "output_type": "execute_result"
    }
   ],
   "source": [
    "np.median(boston_dataset.target)"
   ]
  },
  {
   "cell_type": "code",
   "execution_count": 84,
   "metadata": {},
   "outputs": [],
   "source": [
    "def get_dollar_estimate(rm , ptratio , chas = False , large_range = True):\n",
    "    \n",
    "    \n",
    "    if rm<1 or ptratio<1:\n",
    "        print('That is unrealistic. Try again.')\n",
    "        return\n",
    "    \n",
    "    today_median_price = 583.3\n",
    "    scale_factor = today_median_price/np.median(boston_dataset.target)\n",
    "    log_est , upper , lower , conf = get_log_estimate(rm, ptratio , chas , large_range)\n",
    "\n",
    "    dollar_est = np.e**log_est * 1000 * scale_factor\n",
    "    high_est = np.around(np.e**upper * 1000 * scale_factor , -3)\n",
    "    lowr_est = np.around(np.e**lower * 1000 * scale_factor , -3)\n",
    "\n",
    "    rounded_est = np.around(dollar_est , -3)\n",
    "    print(f'The estimated property value is {rounded_est}.')\n",
    "    print(f'{lowr_est} USD at the lower end to USD {high_est} at the high end.')\n",
    "    print(f'At {conf}% confidence the valuation range is')"
   ]
  },
  {
   "cell_type": "code",
   "execution_count": 89,
   "metadata": {},
   "outputs": [
    {
     "name": "stdout",
     "output_type": "stream",
     "text": [
      "The estimated property value is 822000.0.\n",
      "565000.0 USD at the lower end to USD 1196000.0 at the high end.\n",
      "At 95% confidence the valuation range is\n"
     ]
    }
   ],
   "source": [
    "get_dollar_estimate( 2, 1 , chas = True)"
   ]
  },
  {
   "cell_type": "code",
   "execution_count": null,
   "metadata": {},
   "outputs": [],
   "source": []
  }
 ],
 "metadata": {
  "kernelspec": {
   "display_name": "Python 3",
   "language": "python",
   "name": "python3"
  },
  "language_info": {
   "codemirror_mode": {
    "name": "ipython",
    "version": 3
   },
   "file_extension": ".py",
   "mimetype": "text/x-python",
   "name": "python",
   "nbconvert_exporter": "python",
   "pygments_lexer": "ipython3",
   "version": "3.7.6"
  }
 },
 "nbformat": 4,
 "nbformat_minor": 4
}
